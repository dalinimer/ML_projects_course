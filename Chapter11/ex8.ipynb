{
 "cells": [
  {
   "cell_type": "markdown",
   "metadata": {},
   "source": [
    "import tensorflow as tf\n",
    "from tensorflow import keras\n",
    "\n",
    "def build_CIFAR_model(n_hidden=20,n_neurons=100,learning_rate=3e-3,input_shape=[32,32]):\n",
    "    model=keras.model.Sequential()\n",
    "    model.add(keras.layers.InputLayer(input_shape=input_shape))\n",
    "    \n"
   ]
  },
  {
   "cell_type": "code",
   "execution_count": 131,
   "metadata": {},
   "outputs": [],
   "source": [
    "import tensorflow as tf \n",
    "from tensorflow import keras\n",
    "def build_CIFAR_model(n_hidden=20,n_neurons=100,learning_rate=3e-3,input_shape=[32,32,3]):\n",
    "    model=keras.models.Sequential() \n",
    "    model.add(keras.layers.InputLayer(input_shape=input_shape))\n",
    "    model.add(keras.layers.Flatten(input_shape=input_shape))\n",
    "    for layer in range(n_hidden):\n",
    "        model.add(keras.layers.Dense(n_neurons,activation=\"elu\",kernel_initializer=\"he_normal\"))\n",
    "    model.add(keras.layers.Dense(10,activation=\"softmax\",kernel_initializer=\"he_normal\"))\n",
    "    optimizer=keras.optimizers.Nadam(lr=learning_rate)\n",
    "    model.compile(loss=\"categorical_crossentropy\",optimizer=optimizer)\n",
    "    return model\n",
    "\n",
    "    "
   ]
  },
  {
   "cell_type": "code",
   "execution_count": 132,
   "metadata": {},
   "outputs": [],
   "source": [
    "def build_model(n_hidden=1,n_neurons=30,learning_rate=3e-3,input_shape=[8]):\n",
    "    model=keras.models.Sequential()\n",
    "    model.add(keras.layers.InputLayer(input_shape=input_shape))\n",
    "    for layer in range(n_hidden):\n",
    "        model.add(keras.layers.Dense(n_neurons,activation=\"relu\"))\n",
    "    model.add(keras.layers.Dense(1))\n",
    "    optimizer=keras.optimizers.SGD(lr=learning_rate)\n",
    "    model.compile(loss=\"mse\",optimizer=optimizer)\n",
    "    return model"
   ]
  },
  {
   "cell_type": "code",
   "execution_count": 133,
   "metadata": {},
   "outputs": [],
   "source": [
    "(X_train_full, y_train_full_pre), (X_test, y_test_pre)=tf.keras.datasets.cifar10.load_data()"
   ]
  },
  {
   "cell_type": "code",
   "execution_count": 134,
   "metadata": {},
   "outputs": [],
   "source": [
    "X_valid, y_valid_pre=X_train_full[0:5000],y_train_full_pre[0:5000]\n",
    "X_train, y_train_pre=X_train_full[5000:], y_train_full_pre[5000:]\n"
   ]
  },
  {
   "cell_type": "code",
   "execution_count": 135,
   "metadata": {},
   "outputs": [
    {
     "name": "stdout",
     "output_type": "stream",
     "text": [
      "[6]\n"
     ]
    }
   ],
   "source": [
    "print(y_train_pre[0])"
   ]
  },
  {
   "cell_type": "code",
   "execution_count": 136,
   "metadata": {},
   "outputs": [],
   "source": [
    "y_train=tf.keras.utils.to_categorical(y_train_pre)\n",
    "y_valid=tf.keras.utils.to_categorical(y_valid_pre)\n",
    "y_test=tf.keras.utils.to_categorical(y_test_pre)"
   ]
  },
  {
   "cell_type": "code",
   "execution_count": 140,
   "metadata": {},
   "outputs": [
    {
     "name": "stdout",
     "output_type": "stream",
     "text": [
      "Epoch 1/30\n",
      "   2/1407 [..............................] - ETA: 2:31 - loss: 111.5690WARNING:tensorflow:Callbacks method `on_train_batch_end` is slow compared to the batch time (batch time: 0.0056s vs `on_train_batch_end` time: 0.2105s). Check your callbacks.\n",
      "1407/1407 [==============================] - 9s 7ms/step - loss: 3.1054 - val_loss: 2.0231\n",
      "Epoch 2/30\n",
      "1407/1407 [==============================] - 9s 6ms/step - loss: 1.9416 - val_loss: 1.9265\n",
      "Epoch 3/30\n",
      "1407/1407 [==============================] - 9s 6ms/step - loss: 1.8405 - val_loss: 1.8275\n",
      "Epoch 4/30\n",
      "1407/1407 [==============================] - 9s 6ms/step - loss: 1.7706 - val_loss: 1.7324\n",
      "Epoch 5/30\n",
      "1407/1407 [==============================] - 9s 7ms/step - loss: 1.7168 - val_loss: 1.7621\n",
      "Epoch 6/30\n",
      "1407/1407 [==============================] - 9s 7ms/step - loss: 1.6826 - val_loss: 1.6717\n",
      "Epoch 7/30\n",
      "1407/1407 [==============================] - 9s 7ms/step - loss: 1.6451 - val_loss: 1.6530\n",
      "Epoch 8/30\n",
      "1407/1407 [==============================] - 9s 7ms/step - loss: 1.6141 - val_loss: 1.6940\n",
      "Epoch 9/30\n",
      "1407/1407 [==============================] - 9s 7ms/step - loss: 1.5903 - val_loss: 1.6561\n",
      "Epoch 10/30\n",
      "1407/1407 [==============================] - 9s 7ms/step - loss: 1.5730 - val_loss: 1.6203\n",
      "Epoch 11/30\n",
      "1407/1407 [==============================] - 9s 7ms/step - loss: 1.5499 - val_loss: 1.5833\n",
      "Epoch 12/30\n",
      "1407/1407 [==============================] - 9s 6ms/step - loss: 1.5309 - val_loss: 1.6061\n",
      "Epoch 13/30\n",
      "1407/1407 [==============================] - 9s 6ms/step - loss: 1.5174 - val_loss: 1.6022\n",
      "Epoch 14/30\n",
      "1407/1407 [==============================] - 9s 6ms/step - loss: 1.4984 - val_loss: 1.6136\n",
      "Epoch 15/30\n",
      "1407/1407 [==============================] - 9s 6ms/step - loss: 1.4839 - val_loss: 1.5719\n",
      "Epoch 16/30\n",
      "1407/1407 [==============================] - 9s 6ms/step - loss: 1.4668 - val_loss: 1.5924\n",
      "Epoch 17/30\n",
      "1407/1407 [==============================] - 9s 6ms/step - loss: 1.4555 - val_loss: 1.5950\n",
      "Epoch 18/30\n",
      "1407/1407 [==============================] - 9s 6ms/step - loss: 1.4407 - val_loss: 1.5774\n",
      "Epoch 19/30\n",
      "1407/1407 [==============================] - 9s 6ms/step - loss: 1.4272 - val_loss: 1.5980\n",
      "Epoch 20/30\n",
      "1407/1407 [==============================] - 9s 6ms/step - loss: 1.4165 - val_loss: 1.5740\n",
      "Epoch 21/30\n",
      "1407/1407 [==============================] - 9s 6ms/step - loss: 1.4049 - val_loss: 1.5300\n",
      "Epoch 22/30\n",
      "1407/1407 [==============================] - 9s 6ms/step - loss: 1.3931 - val_loss: 1.5231\n",
      "Epoch 23/30\n",
      "1407/1407 [==============================] - 9s 6ms/step - loss: 1.3827 - val_loss: 1.5475\n",
      "Epoch 24/30\n",
      "1407/1407 [==============================] - 9s 6ms/step - loss: 1.3674 - val_loss: 1.5314\n",
      "Epoch 25/30\n",
      "1407/1407 [==============================] - 9s 6ms/step - loss: 1.3576 - val_loss: 1.5383\n",
      "Epoch 26/30\n",
      "1407/1407 [==============================] - 9s 6ms/step - loss: 1.3506 - val_loss: 1.5245\n",
      "Epoch 27/30\n",
      "1407/1407 [==============================] - 9s 7ms/step - loss: 1.3383 - val_loss: 1.5438\n",
      "Epoch 28/30\n",
      "1407/1407 [==============================] - 9s 6ms/step - loss: 1.3301 - val_loss: 1.5826\n",
      "Epoch 29/30\n",
      "1407/1407 [==============================] - 9s 6ms/step - loss: 1.3202 - val_loss: 1.5563\n",
      "Epoch 30/30\n",
      "1407/1407 [==============================] - 9s 6ms/step - loss: 1.3098 - val_loss: 1.5239\n"
     ]
    },
    {
     "data": {
      "text/plain": [
       "<tensorflow.python.keras.callbacks.History at 0x1a48c5e950>"
      ]
     },
     "execution_count": 140,
     "metadata": {},
     "output_type": "execute_result"
    }
   ],
   "source": [
    "import os\n",
    "\n",
    "run_index = 1 # increment every time you train the model\n",
    "run_logdir = os.path.join(os.curdir, \"my_cifar10_logs\", \"run_bn_{:03d}\".format(run_index))\n",
    "tensorboard_cb = keras.callbacks.TensorBoard(run_logdir)\n",
    "early_stopping_cb = keras.callbacks.EarlyStopping(patience=20)\n",
    "model=build_CIFAR_model(learning_rate=1e-4)\n",
    "model.fit(X_train, y_train, epochs=30,\n",
    "validation_data=(X_valid, y_valid),\n",
    "callbacks=[early_stopping_cb,tensorboard_cb])\n"
   ]
  },
  {
   "cell_type": "code",
   "execution_count": 124,
   "metadata": {},
   "outputs": [
    {
     "ename": "RuntimeError",
     "evalue": "Cannot clone object <tensorflow.python.keras.wrappers.scikit_learn.KerasRegressor object at 0x1a4614bb10>, as the constructor either does not set or modifies parameter learning_rate",
     "output_type": "error",
     "traceback": [
      "\u001b[0;31m---------------------------------------------------------------------------\u001b[0m",
      "\u001b[0;31mRuntimeError\u001b[0m                              Traceback (most recent call last)",
      "\u001b[0;32m<ipython-input-124-8fa59509147f>\u001b[0m in \u001b[0;36m<module>\u001b[0;34m\u001b[0m\n\u001b[1;32m      8\u001b[0m                }\n\u001b[1;32m      9\u001b[0m \u001b[0mrnd_search_cv\u001b[0m\u001b[0;34m=\u001b[0m\u001b[0mRandomizedSearchCV\u001b[0m\u001b[0;34m(\u001b[0m\u001b[0mkeras_reg\u001b[0m\u001b[0;34m,\u001b[0m \u001b[0mparam_distribs\u001b[0m\u001b[0;34m,\u001b[0m\u001b[0mn_iter\u001b[0m\u001b[0;34m=\u001b[0m\u001b[0;36m10\u001b[0m\u001b[0;34m,\u001b[0m\u001b[0mcv\u001b[0m\u001b[0;34m=\u001b[0m\u001b[0;36m3\u001b[0m\u001b[0;34m)\u001b[0m\u001b[0;34m\u001b[0m\u001b[0;34m\u001b[0m\u001b[0m\n\u001b[0;32m---> 10\u001b[0;31m \u001b[0mrnd_search_cv\u001b[0m\u001b[0;34m.\u001b[0m\u001b[0mfit\u001b[0m\u001b[0;34m(\u001b[0m\u001b[0mX_train\u001b[0m\u001b[0;34m,\u001b[0m\u001b[0my_train\u001b[0m\u001b[0;34m,\u001b[0m\u001b[0mepochs\u001b[0m\u001b[0;34m=\u001b[0m\u001b[0;36m30\u001b[0m\u001b[0;34m,\u001b[0m\u001b[0mvalidation_data\u001b[0m\u001b[0;34m=\u001b[0m\u001b[0;34m(\u001b[0m\u001b[0mX_valid\u001b[0m\u001b[0;34m,\u001b[0m\u001b[0my_valid\u001b[0m\u001b[0;34m)\u001b[0m\u001b[0;34m,\u001b[0m\u001b[0mcallbacks\u001b[0m\u001b[0;34m=\u001b[0m\u001b[0;34m[\u001b[0m\u001b[0mkeras\u001b[0m\u001b[0;34m.\u001b[0m\u001b[0mcallbacks\u001b[0m\u001b[0;34m.\u001b[0m\u001b[0mEarlyStopping\u001b[0m\u001b[0;34m(\u001b[0m\u001b[0mpatience\u001b[0m\u001b[0;34m=\u001b[0m\u001b[0;36m10\u001b[0m\u001b[0;34m)\u001b[0m\u001b[0;34m]\u001b[0m\u001b[0;34m)\u001b[0m\u001b[0;34m\u001b[0m\u001b[0;34m\u001b[0m\u001b[0m\n\u001b[0m",
      "\u001b[0;32m~/opt/anaconda3/lib/python3.7/site-packages/sklearn/model_selection/_search.py\u001b[0m in \u001b[0;36mfit\u001b[0;34m(self, X, y, groups, **fit_params)\u001b[0m\n\u001b[1;32m    734\u001b[0m             \u001b[0;31m# of the params are estimators as well.\u001b[0m\u001b[0;34m\u001b[0m\u001b[0;34m\u001b[0m\u001b[0;34m\u001b[0m\u001b[0m\n\u001b[1;32m    735\u001b[0m             self.best_estimator_ = clone(clone(base_estimator).set_params(\n\u001b[0;32m--> 736\u001b[0;31m                 **self.best_params_))\n\u001b[0m\u001b[1;32m    737\u001b[0m             \u001b[0mrefit_start_time\u001b[0m \u001b[0;34m=\u001b[0m \u001b[0mtime\u001b[0m\u001b[0;34m.\u001b[0m\u001b[0mtime\u001b[0m\u001b[0;34m(\u001b[0m\u001b[0;34m)\u001b[0m\u001b[0;34m\u001b[0m\u001b[0;34m\u001b[0m\u001b[0m\n\u001b[1;32m    738\u001b[0m             \u001b[0;32mif\u001b[0m \u001b[0my\u001b[0m \u001b[0;32mis\u001b[0m \u001b[0;32mnot\u001b[0m \u001b[0;32mNone\u001b[0m\u001b[0;34m:\u001b[0m\u001b[0;34m\u001b[0m\u001b[0;34m\u001b[0m\u001b[0m\n",
      "\u001b[0;32m~/opt/anaconda3/lib/python3.7/site-packages/sklearn/base.py\u001b[0m in \u001b[0;36mclone\u001b[0;34m(estimator, safe)\u001b[0m\n\u001b[1;32m     80\u001b[0m             raise RuntimeError('Cannot clone object %s, as the constructor '\n\u001b[1;32m     81\u001b[0m                                \u001b[0;34m'either does not set or modifies parameter %s'\u001b[0m \u001b[0;34m%\u001b[0m\u001b[0;34m\u001b[0m\u001b[0;34m\u001b[0m\u001b[0m\n\u001b[0;32m---> 82\u001b[0;31m                                (estimator, name))\n\u001b[0m\u001b[1;32m     83\u001b[0m     \u001b[0;32mreturn\u001b[0m \u001b[0mnew_object\u001b[0m\u001b[0;34m\u001b[0m\u001b[0;34m\u001b[0m\u001b[0m\n\u001b[1;32m     84\u001b[0m \u001b[0;34m\u001b[0m\u001b[0m\n",
      "\u001b[0;31mRuntimeError\u001b[0m: Cannot clone object <tensorflow.python.keras.wrappers.scikit_learn.KerasRegressor object at 0x1a4614bb10>, as the constructor either does not set or modifies parameter learning_rate"
     ]
    }
   ],
   "source": []
  },
  {
   "cell_type": "code",
   "execution_count": null,
   "metadata": {},
   "outputs": [],
   "source": []
  },
  {
   "cell_type": "code",
   "execution_count": null,
   "metadata": {},
   "outputs": [],
   "source": []
  }
 ],
 "metadata": {
  "kernelspec": {
   "display_name": "Python 3",
   "language": "python",
   "name": "python3"
  },
  "language_info": {
   "codemirror_mode": {
    "name": "ipython",
    "version": 3
   },
   "file_extension": ".py",
   "mimetype": "text/x-python",
   "name": "python",
   "nbconvert_exporter": "python",
   "pygments_lexer": "ipython3",
   "version": "3.7.6"
  }
 },
 "nbformat": 4,
 "nbformat_minor": 4
}
