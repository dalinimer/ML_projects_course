{
 "cells": [
  {
   "cell_type": "code",
   "execution_count": 1,
   "metadata": {},
   "outputs": [],
   "source": [
    "import sklearn\n",
    "import numpy as np\n",
    "from sklearn.datasets import fetch_california_housing\n",
    "from sklearn.model_selection import train_test_split\n",
    "houses = fetch_california_housing()\n",
    "X_train, X_rest, y_train, y_rest = train_test_split(houses.data, houses.target, test_size = 0.30)\n",
    "X_valid, X_test, y_valid, y_test=train_test_split(X_rest, y_rest, test_size = 0.50)\n",
    "\n"
   ]
  },
  {
   "cell_type": "code",
   "execution_count": 2,
   "metadata": {},
   "outputs": [],
   "source": [
    "from sklearn.preprocessing import StandardScaler\n",
    "scaler=StandardScaler()\n",
    "X_train_scaled=scaler.fit_transform(X_train.astype(np.float32))\n",
    "X_valid_scaled=scaler.fit_transform(X_valid.astype(np.float32))\n",
    "X_test_scaled=scaler.fit_transform(X_test.astype(np.float32))\n"
   ]
  },
  {
   "cell_type": "code",
   "execution_count": 11,
   "metadata": {},
   "outputs": [
    {
     "name": "stderr",
     "output_type": "stream",
     "text": [
      "/Users/abdallanimer/opt/anaconda3/lib/python3.7/site-packages/sklearn/svm/_base.py:986: ConvergenceWarning: Liblinear failed to converge, increase the number of iterations.\n",
      "  \"the number of iterations.\", ConvergenceWarning)\n"
     ]
    },
    {
     "data": {
      "text/plain": [
       "LinearSVR(random_state=42)"
      ]
     },
     "execution_count": 11,
     "metadata": {},
     "output_type": "execute_result"
    }
   ],
   "source": [
    "from sklearn.svm import LinearSVR\n",
    "svm_reg=LinearSVR(random_state=42)\n",
    "svm_reg.fit(X_train_scaled,y_train)"
   ]
  },
  {
   "cell_type": "code",
   "execution_count": 12,
   "metadata": {},
   "outputs": [
    {
     "data": {
      "text/plain": [
       "0.6602826610801231"
      ]
     },
     "execution_count": 12,
     "metadata": {},
     "output_type": "execute_result"
    }
   ],
   "source": [
    "from sklearn.metrics import mean_squared_error\n",
    "y_pred=svm_reg.predict(X_train_scaled)\n",
    "mean_squared_error(y_train,y_pred)"
   ]
  },
  {
   "cell_type": "code",
   "execution_count": 13,
   "metadata": {},
   "outputs": [
    {
     "data": {
      "text/plain": [
       "SVR(C=100)"
      ]
     },
     "execution_count": 13,
     "metadata": {},
     "output_type": "execute_result"
    }
   ],
   "source": [
    "from sklearn.svm import SVR\n",
    "svm_poly_reg = SVR(kernel=\"rbf\", C=100, epsilon=0.1)\n",
    "svm_poly_reg.fit(X_train_scaled, y_train)"
   ]
  },
  {
   "cell_type": "code",
   "execution_count": 14,
   "metadata": {},
   "outputs": [
    {
     "data": {
      "text/plain": [
       "0.26789900762441593"
      ]
     },
     "execution_count": 14,
     "metadata": {},
     "output_type": "execute_result"
    }
   ],
   "source": [
    "y_pred_rbf=svm_poly_reg.predict(X_train_scaled)\n",
    "mean_squared_error(y_train,y_pred_rbf)"
   ]
  },
  {
   "cell_type": "code",
   "execution_count": 29,
   "metadata": {},
   "outputs": [
    {
     "name": "stdout",
     "output_type": "stream",
     "text": [
      "Fitting 3 folds for each of 10 candidates, totalling 30 fits\n",
      "[CV] END .....C=4.745401188473625, gamma=0.07969454818643928; total time=   7.5s\n",
      "[CV] END .....C=4.745401188473625, gamma=0.07969454818643928; total time=   7.6s\n",
      "[CV] END .....C=4.745401188473625, gamma=0.07969454818643928; total time=   7.4s\n",
      "[CV] END .....C=8.31993941811405, gamma=0.015751320499779724; total time=   7.3s\n",
      "[CV] END .....C=8.31993941811405, gamma=0.015751320499779724; total time=   7.8s\n",
      "[CV] END .....C=8.31993941811405, gamma=0.015751320499779724; total time=   7.3s\n",
      "[CV] END ....C=2.560186404424365, gamma=0.002051110418843397; total time=   7.4s\n",
      "[CV] END ....C=2.560186404424365, gamma=0.002051110418843397; total time=   7.3s\n",
      "[CV] END ....C=2.560186404424365, gamma=0.002051110418843397; total time=   7.0s\n",
      "[CV] END ....C=1.5808361216819946, gamma=0.05399484409787431; total time=   6.7s\n",
      "[CV] END ....C=1.5808361216819946, gamma=0.05399484409787431; total time=   6.7s\n",
      "[CV] END ....C=1.5808361216819946, gamma=0.05399484409787431; total time=   6.7s\n",
      "[CV] END ....C=7.011150117432088, gamma=0.026070247583707663; total time=   7.1s\n",
      "[CV] END ....C=7.011150117432088, gamma=0.026070247583707663; total time=   7.1s\n",
      "[CV] END ....C=7.011150117432088, gamma=0.026070247583707663; total time=   7.1s\n",
      "[CV] END .....C=1.2058449429580245, gamma=0.0870602087830485; total time=   6.5s\n",
      "[CV] END .....C=1.2058449429580245, gamma=0.0870602087830485; total time=   6.6s\n",
      "[CV] END .....C=1.2058449429580245, gamma=0.0870602087830485; total time=   6.6s\n",
      "[CV] END ...C=9.324426408004218, gamma=0.0026587543983272693; total time=   6.8s\n",
      "[CV] END ...C=9.324426408004218, gamma=0.0026587543983272693; total time=   7.0s\n",
      "[CV] END ...C=9.324426408004218, gamma=0.0026587543983272693; total time=   7.1s\n",
      "[CV] END ...C=2.818249672071006, gamma=0.0023270677083837795; total time=   7.2s\n",
      "[CV] END ...C=2.818249672071006, gamma=0.0023270677083837795; total time=   7.2s\n",
      "[CV] END ...C=2.818249672071006, gamma=0.0023270677083837795; total time=   8.5s\n",
      "[CV] END ....C=4.042422429595377, gamma=0.011207606211860567; total time=  11.0s\n",
      "[CV] END ....C=4.042422429595377, gamma=0.011207606211860567; total time=   7.4s\n",
      "[CV] END ....C=4.042422429595377, gamma=0.011207606211860567; total time=   7.3s\n",
      "[CV] END ....C=5.319450186421157, gamma=0.003823475224675185; total time=   7.3s\n",
      "[CV] END ....C=5.319450186421157, gamma=0.003823475224675185; total time=   7.4s\n",
      "[CV] END ....C=5.319450186421157, gamma=0.003823475224675185; total time=   7.5s\n"
     ]
    },
    {
     "data": {
      "text/plain": [
       "RandomizedSearchCV(cv=3, estimator=SVR(),\n",
       "                   param_distributions={'C': <scipy.stats._distn_infrastructure.rv_frozen object at 0x7fd3885c9490>,\n",
       "                                        'gamma': <scipy.stats._distn_infrastructure.rv_frozen object at 0x7fd3885c9850>},\n",
       "                   random_state=42, verbose=2)"
      ]
     },
     "execution_count": 29,
     "metadata": {},
     "output_type": "execute_result"
    }
   ],
   "source": [
    "from sklearn.model_selection import RandomizedSearchCV\n",
    "from scipy.stats import reciprocal, uniform\n",
    "params={\"gamma\": reciprocal(0.001, 0.1), \"C\": uniform(1, 10)}\n",
    "random_search=RandomizedSearchCV(SVR(),param_distributions=params,n_iter=10,verbose=2,cv=3,random_state=42)\n",
    "random_search.fit(X_train_scaled,y_train)"
   ]
  },
  {
   "cell_type": "code",
   "execution_count": 30,
   "metadata": {},
   "outputs": [
    {
     "data": {
      "text/plain": [
       "SVR(C=4.745401188473625, gamma=0.07969454818643928)"
      ]
     },
     "execution_count": 30,
     "metadata": {},
     "output_type": "execute_result"
    }
   ],
   "source": [
    "random_search.best_estimator_\n"
   ]
  },
  {
   "cell_type": "code",
   "execution_count": 36,
   "metadata": {},
   "outputs": [
    {
     "name": "stdout",
     "output_type": "stream",
     "text": [
      "[3.02377793 2.74272778 3.51699419 ... 2.67156316 2.56558738 2.01982173]\n"
     ]
    }
   ],
   "source": [
    "y_pred=random_search.best_estimator_.predict(X_train_scaled)\n",
    "print(y_pred)"
   ]
  },
  {
   "cell_type": "code",
   "execution_count": 35,
   "metadata": {},
   "outputs": [
    {
     "data": {
      "text/plain": [
       "0.3339844021627788"
      ]
     },
     "execution_count": 35,
     "metadata": {},
     "output_type": "execute_result"
    }
   ],
   "source": [
    "mean_squared_error(y_train,y_pred)"
   ]
  },
  {
   "cell_type": "code",
   "execution_count": 39,
   "metadata": {},
   "outputs": [
    {
     "data": {
      "text/plain": [
       "4.478340223596296"
      ]
     },
     "execution_count": 39,
     "metadata": {},
     "output_type": "execute_result"
    }
   ],
   "source": [
    "y_pred_test=random_search.best_estimator_.predict(X_test_scaled)\n",
    "mean_squared_error(y_test,y_pred_test)"
   ]
  },
  {
   "cell_type": "code",
   "execution_count": null,
   "metadata": {},
   "outputs": [],
   "source": []
  }
 ],
 "metadata": {
  "kernelspec": {
   "display_name": "Python 3",
   "language": "python",
   "name": "python3"
  },
  "language_info": {
   "codemirror_mode": {
    "name": "ipython",
    "version": 3
   },
   "file_extension": ".py",
   "mimetype": "text/x-python",
   "name": "python",
   "nbconvert_exporter": "python",
   "pygments_lexer": "ipython3",
   "version": "3.7.6"
  }
 },
 "nbformat": 4,
 "nbformat_minor": 4
}
